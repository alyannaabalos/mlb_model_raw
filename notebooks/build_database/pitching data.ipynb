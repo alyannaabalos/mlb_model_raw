{
 "cells": [
  {
   "cell_type": "code",
   "execution_count": 27,
   "id": "becddb4f",
   "metadata": {},
   "outputs": [],
   "source": [
    "import requests\n",
    "from datetime import timedelta, date, datetime\n",
    "import json\n",
    "import pandas as pd\n",
    "import os\n",
    "import csv"
   ]
  },
  {
   "cell_type": "code",
   "execution_count": 28,
   "id": "a517664c",
   "metadata": {},
   "outputs": [],
   "source": [
    "def daterange(start_date):\n",
    "    end_date = datetime.now() - timedelta(days=1)\n",
    "    current_date = datetime(start_date.year, start_date.month, start_date.day)\n",
    "    one_day = timedelta(days=1)\n",
    "    while current_date <= end_date:\n",
    "        if current_date.month not in [1, 2, 11, 12]:\n",
    "            yield current_date\n",
    "        current_date += one_day"
   ]
  },
  {
   "cell_type": "code",
   "execution_count": 36,
   "id": "3afcc547",
   "metadata": {},
   "outputs": [],
   "source": [
    "def get_daily_game_ids(api_key, year, month, day):\n",
    "    ''' Fetches game IDs from the daily summary endpoint. '''\n",
    "    try:\n",
    "        # Ensure month and day are integers and format them to two digits\n",
    "        month_str = f\"{int(month):02d}\"\n",
    "        day_str = f\"{int(day):02d}\"\n",
    "    except ValueError:\n",
    "        raise ValueError(\"Month and Day must be convertible to integers.\")\n",
    "\n",
    "    # Construct the URL based on provided parameters\n",
    "    url = f\"https://api.sportradar.com/mlb/trial/v7/en/games/{year}/{month_str}/{day_str}/summary.json\"\n",
    "    \n",
    "    # Set headers to define expected response format\n",
    "    headers = {'Accept': 'application/json'}\n",
    "    \n",
    "    # Send the API request\n",
    "    response = requests.get(url, params={'api_key': api_key}, headers=headers)\n",
    "    \n",
    "    # Debug print to check URL and response status\n",
    "    print(f\"Request URL: {url} | Status Code: {response.status_code}\")\n",
    "\n",
    "    if response.status_code == 200:\n",
    "        data = response.json()\n",
    "        games = data.get('league', {}).get('games', [])\n",
    "        print(f\"Games found on {year}-{month_str}-{day_str}: {len(games)}\")\n",
    "        return [game['game']['id'] for game in games]\n",
    "    elif response.status_code >= 500:\n",
    "        print(\"Server error, consider retrying the request\")\n",
    "        return []\n",
    "    else:\n",
    "        print(f\"Failed to retrieve data: Status Code {response.status_code}\")\n",
    "        return []"
   ]
  },
  {
   "cell_type": "code",
   "execution_count": 41,
   "id": "4179aee0",
   "metadata": {},
   "outputs": [],
   "source": [
    "def extract_team_pitching_stats(team_data, team_type, stats_list, custom_game_id):\n",
    "    # Access team-level pitching statistics\n",
    "    team_stats = team_data.get(team_type, {}).get('statistics', {}).get('pitching', {})\n",
    "\n",
    "    if team_stats:\n",
    "        ip = team_stats['overall'].get('ip_2', '0')  # Innings pitched\n",
    "        \n",
    "        stats_list.append({\n",
    "            'home_away': team_type,\n",
    "            'ip': ip,\n",
    "            'game_id': custom_game_id\n",
    "        })\n",
    "        \n",
    "    return stats_list"
   ]
  },
  {
   "cell_type": "code",
   "execution_count": 44,
   "id": "d13a54ec",
   "metadata": {},
   "outputs": [],
   "source": [
    "def fetch_and_store_pitching_stats(api_key, start_date):\n",
    "    team_stats = []  # Initialize the list outside the for loop to maintain scope throughout the function\n",
    "    \n",
    "    for current_date in daterange(start_date):\n",
    "        year = current_date.year\n",
    "        month = current_date.month\n",
    "        day = current_date.day\n",
    "        game_ids = get_daily_game_ids(api_key, year, month, day)\n",
    "        for game_id in game_ids[:1]:  # Limiting to the first game for testing or example purposes\n",
    "            url = f'https://api.sportradar.com/mlb/trial/v7/en/games/{game_id}/extended_summary.json?api_key={api_key}'\n",
    "            response = requests.get(url)\n",
    "\n",
    "            if response.status_code == 200:\n",
    "                data = response.json()\n",
    "                game_info = data['game']\n",
    "                date = datetime.strptime(game_info['scheduled'], \"%Y-%m-%dT%H:%M:%S%z\").strftime(\"%Y%m%d\")\n",
    "                day_night = game_info['day_night']\n",
    "                custom_game_id = f\"{game_info['home']['abbr']}{game_info['away']['abbr']}{date}{day_night}\"\n",
    "\n",
    "                # Extract team stats for home and away\n",
    "                extract_team_pitching_stats(data['game'], 'home', team_stats, custom_game_id)\n",
    "                extract_team_pitching_stats(data['game'], 'away', team_stats, custom_game_id)\n",
    "            else:\n",
    "                print(f\"Failed to fetch data: {response.status_code} {response.text}\")\n",
    "\n",
    "        break  # Optionally, break after the first date for testing\n",
    "\n",
    "\n",
    "    # Define the path for the file\n",
    "    file_path = '../../data/pitching-test.csv'\n",
    "\n",
    "    # Ensure the directory exists, create if not\n",
    "    os.makedirs(os.path.dirname(file_path), exist_ok=True)\n",
    "\n",
    "    # Writing to CSV\n",
    "    with open(file_path, 'w', newline='') as csvfile:\n",
    "        fieldnames = [\n",
    "            'home_away',\n",
    "            'ip',\n",
    "            'game_id'\n",
    "        ]\n",
    "\n",
    "        writer = csv.DictWriter(csvfile, fieldnames=fieldnames)\n",
    "\n",
    "        writer.writeheader()\n",
    "        for stat in team_stats:\n",
    "            writer.writerow(stat)\n",
    "\n",
    "        print(f\"Team pitching data written to '{file_path}'\")\n"
   ]
  },
  {
   "cell_type": "code",
   "execution_count": 45,
   "id": "36502d05",
   "metadata": {},
   "outputs": [
    {
     "name": "stdout",
     "output_type": "stream",
     "text": [
      "Request URL: https://api.sportradar.com/mlb/trial/v7/en/games/2024/05/05/summary.json | Status Code: 200\n",
      "Games found on 2024-05-05: 15\n",
      "Team pitching data written to '../../data/pitching-test.csv'\n"
     ]
    }
   ],
   "source": [
    "api_key = '95w69RTFvT2czN4vnvoLnW8Os95JWg4SBFjJF1f0'  # Replace with your actual API key\n",
    "start_date = datetime(2024, 5, 5).date()\n",
    "fetch_and_store_pitching_stats(api_key, start_date)"
   ]
  },
  {
   "cell_type": "code",
   "execution_count": null,
   "id": "e18e7162",
   "metadata": {},
   "outputs": [],
   "source": []
  }
 ],
 "metadata": {
  "kernelspec": {
   "display_name": "Python 3 (ipykernel)",
   "language": "python",
   "name": "python3"
  },
  "language_info": {
   "codemirror_mode": {
    "name": "ipython",
    "version": 3
   },
   "file_extension": ".py",
   "mimetype": "text/x-python",
   "name": "python",
   "nbconvert_exporter": "python",
   "pygments_lexer": "ipython3",
   "version": "3.11.5"
  }
 },
 "nbformat": 4,
 "nbformat_minor": 5
}
