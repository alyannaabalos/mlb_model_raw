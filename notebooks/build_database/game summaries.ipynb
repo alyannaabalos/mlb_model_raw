{
 "cells": [
  {
   "cell_type": "markdown",
   "id": "1598cc40",
   "metadata": {},
   "source": [
    "# Game Summary"
   ]
  },
  {
   "cell_type": "code",
   "execution_count": null,
   "id": "5826db55",
   "metadata": {},
   "outputs": [],
   "source": [
    "import requests\n",
    "from datetime import timedelta, date, datetime\n",
    "import json\n",
    "import pandas as pd\n",
    "import os\n",
    "import csv\n",
    "import sys\n",
    "import time"
   ]
  },
  {
   "cell_type": "code",
   "execution_count": null,
   "id": "e0a62710",
   "metadata": {},
   "outputs": [],
   "source": [
    "sys.path.append('../../code')  # Replace '/path/to/code' with the actual path to your 'code' directory\n",
    "from scrape_new import daterange, get_daily_game_ids"
   ]
  },
  {
   "cell_type": "code",
   "execution_count": null,
   "id": "9314d4e8",
   "metadata": {},
   "outputs": [],
   "source": [
    "def get_game_summary(api_key, game_id, delay_seconds=1):\n",
    "    '''\n",
    "    Fetches and extracts game summary information from the Sportradar API.\n",
    "\n",
    "    Params:\n",
    "    api_key: str - API key for accessing the Sportradar service\n",
    "    game_id: str - Unique identifier for the game\n",
    "    delay_seconds: int - Number of seconds to wait after the request is made\n",
    "\n",
    "    Returns:\n",
    "    game: dict - Dictionary containing formatted game summary if successful, None otherwise\n",
    "    '''\n",
    "    url = f'https://api.sportradar.com/mlb/trial/v7/en/games/{game_id}/summary.json'\n",
    "    response = requests.get(url, params={'api_key': api_key})\n",
    "\n",
    "    # Delay after making the request\n",
    "    time.sleep(delay_seconds)\n",
    "\n",
    "    # Initialize an empty dictionary to store game data\n",
    "    game = {}\n",
    "\n",
    "    # Check if the request was successful\n",
    "    if response.status_code == 200:\n",
    "        game_summary = response.json()\n",
    "        \n",
    "        # Accessing the 'game' key safely\n",
    "        game_data = game_summary.get('game', {})\n",
    "        \n",
    "        # Extracting game details\n",
    "        game['game_id'] = game_id\n",
    "        game['away_team_abbr'] = game_data.get('away', {}).get('abbr', 'No abbreviation found')\n",
    "        game['home_team_abbr'] = game_data.get('home', {}).get('abbr', 'No abbreviation found')\n",
    "        \n",
    "        # Handling scheduled time information\n",
    "        scheduled_time = game_data.get('scheduled', 'No scheduled time found')\n",
    "        game['date'] = scheduled_time.split('T')[0]\n",
    "        game['start_time'] = scheduled_time.split('T')[1][:5] if 'T' in scheduled_time else 'Unknown'\n",
    "        game['day_night'] = game_data.get('day_night', 'Unknown')\n",
    "\n",
    "        # Extracting venue information\n",
    "        venue_data = game_data.get('venue', {})\n",
    "        game['venue'] = venue_data.get('name', 'No venue name found')\n",
    "        game['field_type'] = venue_data.get('stadium_type', 'No stadium type found')\n",
    "\n",
    "        # Statistics\n",
    "        game['away_team_errors'] = game_data.get('away', {}).get('errors', 0)\n",
    "        game['home_team_errors'] = game_data.get('home', {}).get('errors', 0)\n",
    "        game['away_team_hits'] = game_data.get('away', {}).get('hits', 0)\n",
    "        game['home_team_hits'] = game_data.get('home', {}).get('hits', 0)\n",
    "        game['away_team_runs'] = game_data.get('away', {}).get('runs', 0)\n",
    "        game['home_team_runs'] = game_data.get('home', {}).get('runs', 0)\n",
    "        \n",
    "        return game\n",
    "    else:\n",
    "        print(f\"Failed to retrieve data for game ID {game_id}: Status Code {response.status_code}\")\n",
    "        return None"
   ]
  },
  {
   "cell_type": "code",
   "execution_count": null,
   "id": "448f0571",
   "metadata": {},
   "outputs": [],
   "source": [
    "# Define the function to save game summaries to a CSV file\n",
    "def save_game_summaries_to_csv(game_summaries, filename):\n",
    "    # Define the CSV fieldnames based on the keys in the game summary dictionary\n",
    "    fieldnames = game_summaries[0].keys() if game_summaries else []\n",
    "    \n",
    "    # Write the game summaries to the CSV file\n",
    "    with open(filename, 'w', newline='') as csvfile:\n",
    "        writer = csv.DictWriter(csvfile, fieldnames=fieldnames)\n",
    "        writer.writeheader()\n",
    "        writer.writerows(game_summaries)"
   ]
  },
  {
   "cell_type": "code",
   "execution_count": null,
   "id": "77f2812d",
   "metadata": {},
   "outputs": [],
   "source": [
    "# Example usage\n",
    "api_key = ''\n",
    "start_date = datetime(2024, 3, 1).date()\n",
    "\n",
    "all_game_summaries = []\n",
    "for single_date in daterange(start_date):\n",
    "    year = single_date.year\n",
    "    month = f\"{single_date.month:02d}\"  # Format as two digits\n",
    "    day = f\"{single_date.day:02d}\"     # Format as two digits\n",
    "    game_ids = get_daily_game_ids(api_key, year, month, day)\n",
    "    for game_id in game_ids:\n",
    "        game_summary = get_game_summary(api_key, game_id,delay_seconds=1)\n",
    "        if game_summary:\n",
    "            all_game_summaries.append(game_summary)\n",
    "\n",
    "# Save the game summaries to a CSV file\n",
    "if all_game_summaries:\n",
    "    filename = '../data/game_summaries-1.csv'\n",
    "    for game_summary in all_game_summaries:\n",
    "        df = pd.DataFrame([game_summary])\n",
    "        df.to_csv(filename, mode='a', index=False, header=not os.path.exists(filename))\n",
    "    print(f\"Game summaries saved to {filename}\")\n",
    "else:\n",
    "    print(\"No game summaries were collected.\")"
   ]
  },
  {
   "cell_type": "code",
   "execution_count": null,
   "id": "4ad16d4e",
   "metadata": {},
   "outputs": [],
   "source": []
  }
 ],
 "metadata": {
  "kernelspec": {
   "display_name": "Python 3 (ipykernel)",
   "language": "python",
   "name": "python3"
  },
  "language_info": {
   "codemirror_mode": {
    "name": "ipython",
    "version": 3
   },
   "file_extension": ".py",
   "mimetype": "text/x-python",
   "name": "python",
   "nbconvert_exporter": "python",
   "pygments_lexer": "ipython3",
   "version": "3.11.5"
  }
 },
 "nbformat": 4,
 "nbformat_minor": 5
}
